{
 "cells": [
  {
   "cell_type": "code",
   "execution_count": 1,
   "id": "9b4dd137",
   "metadata": {},
   "outputs": [],
   "source": [
    "import pandas as pd\n",
    "import numpy as np"
   ]
  },
  {
   "cell_type": "code",
   "execution_count": 2,
   "id": "013e4c19",
   "metadata": {},
   "outputs": [],
   "source": [
    "df1 = pd.read_csv('passes.csv')\n",
    "df1 = df1.drop('Unnamed: 0',axis=1)\n",
    "df2 = pd.read_csv('take_ons.csv')\n",
    "df2 = df2.drop('Unnamed: 0',axis=1)\n",
    "df3 = pd.read_csv('shots.csv')\n",
    "df3 = df3.drop('Unnamed: 0',axis=1)\n",
    "df4 = pd.read_csv('def_actions.csv')\n",
    "df4 = df4.drop('Unnamed: 0',axis=1)"
   ]
  },
  {
   "cell_type": "code",
   "execution_count": 3,
   "id": "c474a12e",
   "metadata": {},
   "outputs": [],
   "source": [
    "df = df1.append(df2)\n",
    "df = df.append(df3)\n",
    "df = df.append(df4)"
   ]
  },
  {
   "cell_type": "code",
   "execution_count": 4,
   "id": "47408c21",
   "metadata": {},
   "outputs": [],
   "source": [
    "df = df.reset_index(drop=True)"
   ]
  },
  {
   "cell_type": "code",
   "execution_count": 5,
   "id": "92a28034",
   "metadata": {},
   "outputs": [],
   "source": [
    "df['action'] = df['type_id']"
   ]
  },
  {
   "cell_type": "code",
   "execution_count": 6,
   "id": "466b390b",
   "metadata": {},
   "outputs": [],
   "source": [
    "df['action'] = df['action'].replace(1,'Passes')\n",
    "df['action'] = df['action'].replace(3,'Take Ons')\n",
    "df['action'] = df['action'].replace(7,'Defensive Actions')\n",
    "df['action'] = df['action'].replace(8,'Defensive Actions')\n",
    "df['action'] = df['action'].replace(13,'Shots')\n",
    "df['action'] = df['action'].replace(14,'Shots')\n",
    "df['action'] = df['action'].replace(15,'Shots')\n",
    "df['action'] = df['action'].replace(16,'Shots')"
   ]
  },
  {
   "cell_type": "code",
   "execution_count": 7,
   "id": "cd64e23e",
   "metadata": {},
   "outputs": [
    {
     "data": {
      "text/plain": [
       "0        False\n",
       "1        False\n",
       "2        False\n",
       "3        False\n",
       "4        False\n",
       "         ...  \n",
       "40929      NaN\n",
       "40930      NaN\n",
       "40931      NaN\n",
       "40932      NaN\n",
       "40933      NaN\n",
       "Name: progressive, Length: 40934, dtype: object"
      ]
     },
     "execution_count": 7,
     "metadata": {},
     "output_type": "execute_result"
    }
   ],
   "source": [
    "df['progressive']"
   ]
  },
  {
   "cell_type": "code",
   "execution_count": 8,
   "id": "1a9c02d4",
   "metadata": {},
   "outputs": [],
   "source": [
    "df.to_csv('all_actions.csv')"
   ]
  }
 ],
 "metadata": {
  "kernelspec": {
   "display_name": "Python 3",
   "language": "python",
   "name": "python3"
  },
  "language_info": {
   "codemirror_mode": {
    "name": "ipython",
    "version": 3
   },
   "file_extension": ".py",
   "mimetype": "text/x-python",
   "name": "python",
   "nbconvert_exporter": "python",
   "pygments_lexer": "ipython3",
   "version": "3.8.8"
  }
 },
 "nbformat": 4,
 "nbformat_minor": 5
}
