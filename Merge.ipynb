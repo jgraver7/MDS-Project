{
 "cells": [
  {
   "cell_type": "code",
   "execution_count": 1,
   "id": "9b4dd137",
   "metadata": {},
   "outputs": [],
   "source": [
    "import pandas as pd"
   ]
  },
  {
   "cell_type": "code",
   "execution_count": 2,
   "id": "013e4c19",
   "metadata": {},
   "outputs": [],
   "source": [
    "df1 = pd.read_csv('passes.csv')\n",
    "df1 = df1.drop('Unnamed: 0',axis=1)\n",
    "df2 = pd.read_csv('take_ons.csv')\n",
    "df2 = df2.drop('Unnamed: 0',axis=1)\n",
    "df3 = pd.read_csv('shots.csv')\n",
    "df3 = df3.drop('Unnamed: 0',axis=1)\n",
    "df4 = pd.read_csv('def_actions.csv')\n",
    "df4 = df4.drop('Unnamed: 0',axis=1)"
   ]
  },
  {
   "cell_type": "code",
   "execution_count": 3,
   "id": "c474a12e",
   "metadata": {},
   "outputs": [],
   "source": [
    "df = df1.append(df2)\n",
    "df = df.append(df3)\n",
    "df = df.append(df4)"
   ]
  },
  {
   "cell_type": "code",
   "execution_count": 4,
   "id": "1a9c02d4",
   "metadata": {},
   "outputs": [],
   "source": [
    "df.to_csv('all_actions.csv')"
   ]
  }
 ],
 "metadata": {
  "kernelspec": {
   "display_name": "Python 3",
   "language": "python",
   "name": "python3"
  },
  "language_info": {
   "codemirror_mode": {
    "name": "ipython",
    "version": 3
   },
   "file_extension": ".py",
   "mimetype": "text/x-python",
   "name": "python",
   "nbconvert_exporter": "python",
   "pygments_lexer": "ipython3",
   "version": "3.8.8"
  }
 },
 "nbformat": 4,
 "nbformat_minor": 5
}
